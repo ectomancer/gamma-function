{
 "cells": [
  {
   "cell_type": "markdown",
   "metadata": {},
   "source": [
    "<h3>Bessel–Maitland function</h3>\n",
    "<a href=\"https://pjm.ppu.edu/sites/default/files/papers/PJM_April2019_279to285.pdf\">Kahn, 2019</a>\n",
    "$$J^\\mu_\\nu(z)=\\sum_{m=0}^\\infty\\frac{-z^m}{\\Gamma(\\nu+\\mu m+1)m!}\\quad(1.1)$$\n",
    "<p>where &mu;&gt;0 and &nu;&gt;-1</p>\n"
   ]
  },
  {
   "cell_type": "code",
   "execution_count": 6,
   "metadata": {},
   "outputs": [
    {
     "name": "stdout",
     "output_type": "stream",
     "text": [
      "0.564189583547756\n",
      "0.207553748710297\n",
      "0.0763547570885821\n",
      "(-0.0317747906177389 - 0.0694291841465478j)\n"
     ]
    }
   ],
   "source": [
    "from typing import TypeVar\n",
    "\n",
    "import mpmath\n",
    "\n",
    "import treefactorial\n",
    "\n",
    "Numeric = TypeVar('Numeric', int, float, complex)\n",
    "\n",
    "mpmath.mp.mps = 64\n",
    "EMPTY_SUM = 0\n",
    "\n",
    "factorial = treefactorial.factorial\n",
    "\n",
    "def bessel_maitland(𝜇: Numeric, 𝜈: Numeric, z: Numeric) -> Numeric:\n",
    "    \"\"\"Bessel–Maitland function J.\"\"\"\n",
    "    sum = EMPTY_SUM\n",
    "    for m in range(30):\n",
    "        sum += (-z)**m/(mpmath.gamma(𝜈 + 𝜇*m + 1)*factorial(m))\n",
    "    return sum\n",
    "\n",
    "print(bessel_maitland(0, -0.5, 0))\n",
    "print(bessel_maitland(0, -0.5, 1))\n",
    "print(bessel_maitland(0, -0.5, 2))\n",
    "print(bessel_maitland(0, -0.5, 2+2j))\n"
   ]
  },
  {
   "cell_type": "code",
   "execution_count": null,
   "metadata": {},
   "outputs": [],
   "source": []
  }
 ],
 "metadata": {
  "kernelspec": {
   "display_name": "Python 3",
   "language": "python",
   "name": "python3"
  },
  "language_info": {
   "codemirror_mode": {
    "name": "ipython",
    "version": 3
   },
   "file_extension": ".py",
   "mimetype": "text/x-python",
   "name": "python",
   "nbconvert_exporter": "python",
   "pygments_lexer": "ipython3",
   "version": "3.7.0"
  }
 },
 "nbformat": 4,
 "nbformat_minor": 4
}
